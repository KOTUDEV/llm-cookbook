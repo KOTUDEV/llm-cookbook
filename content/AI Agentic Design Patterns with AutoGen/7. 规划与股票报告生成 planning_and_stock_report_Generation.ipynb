{
 "cells": [
  {
   "cell_type": "markdown",
   "id": "0b9a3d83",
   "metadata": {},
   "source": [
    "# 规划和股票报告生成\n",
    "在这章我们将会搭建一个定制的多Agent组成的群聊，协作生成关于过去一个月股票表现的详细报告。\n",
    "<center>\n",
    "<img src=\"images/group_of_agents.jpg\" width=\"600\">\n",
    "</center>"
   ]
  },
  {
   "cell_type": "markdown",
   "id": "8d5f1491",
   "metadata": {},
   "source": [
    "## 设置配置"
   ]
  },
  {
   "cell_type": "code",
   "execution_count": 1,
   "id": "ad72cb6c-a916-40f7-960c-501c6309037f",
   "metadata": {
    "height": 30
   },
   "outputs": [],
   "source": [
    "llm_config={\"model\": \"gpt-4-turbo\"}"
   ]
  },
  {
   "cell_type": "markdown",
   "id": "d09b03c3",
   "metadata": {},
   "source": [
    "## 创建任务"
   ]
  },
  {
   "cell_type": "code",
   "execution_count": 2,
   "id": "01c1772f-2583-4c7a-a8a0-dd2946eea022",
   "metadata": {
    "height": 47
   },
   "outputs": [],
   "source": [
    "task = \"写一篇关于过去一个月\"\\\n",
    "\"Nvidia股价表现的博客。今天是 2024-04-23。\""
   ]
  },
  {
   "cell_type": "markdown",
   "id": "be3ca91b",
   "metadata": {},
   "source": [
    "## 建立群聊\n",
    "\n",
    "在之前的学习中，我们学习了顺序聊天的对话模版，它可以执行多步任务，但需要人类设计具体的步骤和每个步骤中涉及的具体Agent，如果我们想要简单地定义Agent并让它们共同解决这个任务，那么这个群聊的对话模式能够满足你的需求。\n",
    "\n",
    "为了完成任务，这个群聊将包含以下Agent：\n",
    "\n",
    "1. **User_proxy** or **Admin**: 允许用户对报告进行评论，并要求作者对报告进行改进。\n",
    "2. **Planner**: 确定完成任务所需的相关信息。\n",
    "3. **Engineer**: 使用Planner定义的计划编写代码。\n",
    "4. **Executor**: 执行Engineer编写的代码。\n",
    "5. **Writer**: 撰写报告\n",
    "接下来我们逐个定义上述Agengt。"
   ]
  },
  {
   "cell_type": "code",
   "execution_count": 3,
   "id": "bd7befab-9487-4c50-8eca-1e2e30dbf7d6",
   "metadata": {
    "height": 30
   },
   "outputs": [],
   "source": [
    "import autogen"
   ]
  },
  {
   "cell_type": "code",
   "execution_count": 4,
   "id": "3258cb72-cb74-4eab-a387-ee409baf4947",
   "metadata": {
    "height": 149
   },
   "outputs": [
    {
     "name": "stdout",
     "output_type": "stream",
     "text": [
      "[autogen.oai.client: 06-14 21:04:14] {129} WARNING - The API key specified is not a valid OpenAI format; it won't work with the OpenAI-hosted model.\n"
     ]
    }
   ],
   "source": [
    "user_proxy = autogen.ConversableAgent(\n",
    "    name=\"Admin\",                       # 管理员\n",
    "    system_message=\"Give the task, and send \"# 给出任务，并发送指令给作者，从而完善博客文章。\n",
    "    \"instructions to writer to refine the blog post.\",\n",
    "    code_execution_config=False,\n",
    "    llm_config=llm_config,\n",
    "    human_input_mode=\"ALWAYS\",          # 将人类输入模式设置为 ALWAYS 因此每次轮到Admin Agent说话时，始终要求人类输入\n",
    ")                                       # 如果跳过输入，Admin Agent会发送指示给Writer Agengt来改进博文"
   ]
  },
  {
   "cell_type": "code",
   "execution_count": 5,
   "id": "0832b856-f13d-4e16-b61f-69eb23e0ae71",
   "metadata": {
    "height": 285
   },
   "outputs": [
    {
     "name": "stdout",
     "output_type": "stream",
     "text": [
      "[autogen.oai.client: 06-14 21:04:14] {129} WARNING - The API key specified is not a valid OpenAI format; it won't work with the OpenAI-hosted model.\n"
     ]
    }
   ],
   "source": [
    "planner = autogen.ConversableAgent(\n",
    "    name=\"Planner\",                                 # 规划者\n",
    "    system_message=\"Given a task, please determine \" # 给定一项任务，请确定完成该任务需要哪些信息。\n",
    "    \"what information is needed to complete the task. \"# 请注意，所有信息都将使用Python代码检索。\n",
    "    \"Please note that the information will all be retrieved using\"# 请只建议可以使用Python代码检索的信息。\n",
    "    \" Python code. Please only suggest information that can be \"# 在其他人完成每一步后，检查进度并指示剩余步骤。\n",
    "    \"retrieved using Python code. \"                              # 如果某一步失败，尝试解决。\n",
    "    \"After each step is done by others, check the progress and \"\n",
    "    \"instruct the remaining steps. If a step fails, try to \"\n",
    "    \"workaround\",\n",
    "    description=\"Planner. Given a task, determine what \"# 规划者。给定一项任务，确定完成该任务需要哪些信息。\n",
    "    \"information is needed to complete the task. \"# 在其他人完成每一步后，检查进度并指示剩余步骤\n",
    "    \"After each step is done by others, check the progress and \"\n",
    "    \"instruct the remaining steps\",\n",
    "    llm_config=llm_config,\n",
    ")"
   ]
  },
  {
   "cell_type": "code",
   "execution_count": 6,
   "id": "2427f55d-fb7b-4f3c-85d4-dcd35547b397",
   "metadata": {
    "height": 115
   },
   "outputs": [
    {
     "name": "stdout",
     "output_type": "stream",
     "text": [
      "[autogen.oai.client: 06-14 21:04:14] {129} WARNING - The API key specified is not a valid OpenAI format; it won't work with the OpenAI-hosted model.\n"
     ]
    }
   ],
   "source": [
    "engineer = autogen.AssistantAgent(\n",
    "    name=\"Engineer\",            # 工程师                   \n",
    "    llm_config=llm_config,\n",
    "    description=\"An engineer that writes code based on the plan \"# 基于规划者的计划写代码。\n",
    "    \"provided by the planner.\",\n",
    ")"
   ]
  },
  {
   "cell_type": "code",
   "execution_count": 7,
   "id": "040ac21f-b4bf-4bd6-ac58-fdb2c8f8de14",
   "metadata": {
    "height": 200
   },
   "outputs": [],
   "source": [
    "executor = autogen.ConversableAgent(\n",
    "    name=\"Executor\",                        # 执行者\n",
    "    system_message=\"Execute the code written by the \"# 执行工程师写的代码并且返回结果。\n",
    "    \"engineer and report the result.\",\n",
    "    human_input_mode=\"NEVER\",\n",
    "    code_execution_config={\n",
    "        \"last_n_messages\": 3,   # 能看到的执行代码结果的消息数\n",
    "        \"work_dir\": \"coding\",   # 代码保存路径\n",
    "        \"use_docker\": False,    # 是否使用docker执行代码\n",
    "    },\n",
    ")"
   ]
  },
  {
   "cell_type": "code",
   "execution_count": 8,
   "id": "d6367fb4-a81b-411c-a339-8dd3d1d41483",
   "metadata": {
    "height": 200
   },
   "outputs": [
    {
     "name": "stdout",
     "output_type": "stream",
     "text": [
      "[autogen.oai.client: 06-14 21:04:14] {129} WARNING - The API key specified is not a valid OpenAI format; it won't work with the OpenAI-hosted model.\n"
     ]
    }
   ],
   "source": [
    "writer = autogen.ConversableAgent(\n",
    "    name=\"Writer\",                      # 作家/写作者\n",
    "    llm_config=llm_config,\n",
    "    system_message=\"Writer.\"\n",
    "    \"Please write blogs in markdown format (with relevant titles)\"  # 请用markdown格式写博客(带有相关标题)，并将内容放在伪``` `md```代码块中。\n",
    "    \" and put the content in pseudo ```md``` code block. \"      # 你从管理员那里得到反馈并改进你的博客。\n",
    "    \"You take feedback from the admin and refine your blog.\",\n",
    "    description=\"Writer.\"                                   # 作家/写作者\n",
    "    \"Write blogs based on the code execution results and take \"     # 根据代码执行结果编写博客，并根据管理员的反馈完善博客\n",
    "    \"feedback from the admin to refine the blog.\"\n",
    ")"
   ]
  },
  {
   "cell_type": "markdown",
   "id": "a2ea86b5",
   "metadata": {},
   "source": [
    "## 定义群聊\n",
    "将之前定义好的Agent拉进群聊。"
   ]
  },
  {
   "cell_type": "code",
   "execution_count": 9,
   "id": "cbf3c4b7-d4b8-4f97-8a25-e23107904ad5",
   "metadata": {
    "height": 98
   },
   "outputs": [],
   "source": [
    "groupchat = autogen.GroupChat(\n",
    "    agents=[user_proxy, engineer, writer, executor, planner],   # agents为参与群聊的Agent，接收格式为List[Agent]\n",
    "    messages=[],   \n",
    "    max_round=10,   \n",
    ")"
   ]
  },
  {
   "cell_type": "markdown",
   "id": "034995b9",
   "metadata": {},
   "source": [
    "定义群聊管理器，我们要通过Admin对群聊管理器提出任务从而开始对话，同样的群聊管理器也需要配置 `llm_config`。"
   ]
  },
  {
   "cell_type": "code",
   "execution_count": 10,
   "id": "bfcabc20-9316-45b7-852d-42e14550a956",
   "metadata": {
    "height": 81
   },
   "outputs": [
    {
     "name": "stdout",
     "output_type": "stream",
     "text": [
      "[autogen.oai.client: 06-14 21:04:14] {129} WARNING - The API key specified is not a valid OpenAI format; it won't work with the OpenAI-hosted model.\n"
     ]
    }
   ],
   "source": [
    "manager = autogen.GroupChatManager(\n",
    "    groupchat=groupchat, llm_config=llm_config\n",
    ")\n"
   ]
  },
  {
   "cell_type": "markdown",
   "id": "b51eaffa",
   "metadata": {},
   "source": [
    "## 开始群聊"
   ]
  },
  {
   "cell_type": "code",
   "execution_count": 11,
   "id": "a9899e8f-2971-487c-9d0e-932c36b3b75a",
   "metadata": {
    "height": 81
   },
   "outputs": [
    {
     "name": "stdout",
     "output_type": "stream",
     "text": [
      "\u001b[33mAdmin\u001b[0m (to chat_manager):\n",
      "\n",
      "写一篇关于过去一个月Nvidia股价表现的博客。今天是 2024-04-23。\n",
      "\n",
      "--------------------------------------------------------------------------------\n",
      "\u001b[31m\n",
      ">>>>>>>> USING AUTO REPLY...\u001b[0m\n",
      "\u001b[33mPlanner\u001b[0m (to chat_manager):\n",
      "\n",
      "为了完成关于过去一个月NVIDIA股价表现的博客，你需要做以下几个步骤：\n",
      "\n",
      "1. **获取股票数据**：\n",
      "   - 你需要从2024年3月23日到2024年4月22日的NVIDIA股票数据。\n",
      "   - 数据应包括至少每日的开盘价、最高价、最低价和收盘价。\n",
      "\n",
      "2. **分析股票表现**：\n",
      "   - 比较3月23日和4月22日的收盘价，评估股价变化。\n",
      "   - 计算此期间的股价最高值和最低值。\n",
      "   - 可以计算平均收盘价或其他相关的统计数据。\n",
      "\n",
      "3. **撰写博客文章**：\n",
      "   - 根据收集的数据分析NVIDIA过去一个月的股价表现。\n",
      "   - 提供量化数据支持你的分析，如价格变动、最高点和最低点。\n",
      "   - 讨论可能影响股价变动的外部因素，如市场新闻或技术创新。\n",
      "\n",
      "### 第一步：获取股票数据\n",
      "为了获取股票数据，你可以使用Python中的几种金融数据库接口，如 `yfinance`。可以通过下面的Python代码来获取NVIDIA（股票代码为\"NVDA\"）的股票数据：\n",
      "\n",
      "```python\n",
      "import yfinance as yf\n",
      "import pandas as pd\n",
      "\n",
      "# 设置日期范围\n",
      "start_date = \"2024-03-23\"\n",
      "end_date = \"2024-04-22\"\n",
      "\n",
      "# 下载NVDA股票数据\n",
      "nvda_data = yf.download('NVDA', start=start_date, end=end_date)\n",
      "\n",
      "# 显示数据\n",
      "print(nvda_data)\n",
      "```\n",
      "\n",
      "该代码段将输出NVIDIA股票的每日开盘价、最高价、最低价和收盘价等数据。\n",
      "\n",
      "#### 接下来的步骤：\n",
      "- 执行上述Python代码来获取NVIDIA股票数据。\n",
      "- 检查数据是否已正确获取并呈现所需日期范围内的数据。如果成功，请告诉我以便继续进行下一步分析。如果失败，请描述遇到的问题，以便我可以帮助找到解决方案。\n",
      "\n",
      "--------------------------------------------------------------------------------\n",
      "\u001b[31m\n",
      ">>>>>>>> EXECUTING CODE BLOCK 0 (inferred language is python)...\u001b[0m\n",
      "\u001b[33mExecutor\u001b[0m (to chat_manager):\n",
      "\n",
      "exitcode: 0 (execution succeeded)\n",
      "Code output: \n",
      "                 Open       High        Low      Close  Adj Close     Volume\n",
      "Date                                                                        \n",
      "2024-03-25  93.941002  96.765999  93.510002  95.001999  94.994194  552136000\n",
      "2024-03-26  95.850998  96.375000  92.501999  92.560997  92.553398  513648000\n",
      "2024-03-27  93.112000  93.239998  89.123001  90.250000  90.242584  586067000\n",
      "2024-03-28  90.000000  91.300003  89.193001  90.356003  90.348579  435212000\n",
      "2024-04-01  90.299004  92.224998  89.204002  90.362999  90.355576  452441000\n",
      "2024-04-02  88.447998  90.094002  87.620003  89.452003  89.444656  433064000\n",
      "2024-04-03  88.484001  90.374001  88.400002  88.963997  88.956688  370067000\n",
      "2024-04-04  90.405998  90.634003  85.879997  85.904999  85.897942  434965000\n",
      "2024-04-05  86.865997  88.481003  85.926003  88.008003  88.000778  399678000\n",
      "2024-04-08  88.699997  88.830002  86.732002  87.133003  87.125847  283220000\n",
      "2024-04-09  87.442001  87.635002  83.022003  85.353996  85.346985  503547000\n",
      "2024-04-10  83.926003  87.400002  83.709000  87.039001  87.031853  431929000\n",
      "2024-04-11  87.419998  90.738998  86.926003  90.615997  90.608551  431637000\n",
      "2024-04-12  89.698997  90.175003  87.529999  88.185997  88.178757  426805000\n",
      "2024-04-15  89.098000  90.612999  85.929001  86.000999  85.993935  443077000\n",
      "2024-04-16  86.432999  88.117996  86.064003  87.415001  87.407822  370453000\n",
      "2024-04-17  88.339996  88.775002  83.949997  84.035004  84.028099  495400000\n",
      "2024-04-18  84.970001  86.190002  82.402000  84.670998  84.664040  447260000\n",
      "2024-04-19  83.150002  84.323997  75.606003  76.199997  76.193741  875198000\n",
      "\n",
      "\n",
      "--------------------------------------------------------------------------------\n",
      "\u001b[31m\n",
      ">>>>>>>> USING AUTO REPLY...\u001b[0m\n",
      "\u001b[33mWriter\u001b[0m (to chat_manager):\n",
      "\n",
      "根据您执行的Python代码获取的数据，现在我们已经有了NVIDIA在指定日期范围内（2024年3月25日至2024年4月19日）的股票价格数据。下一步，我们将根据这些数据来分析NVIDIA股价的表现。\n",
      "\n",
      "## 基本股价变动情况\n",
      "\n",
      "首先，我们观察到在这段时间内，NVIDIA的股票经历了一些较大的波动：\n",
      "\n",
      "- **开盘价**：2024年3月25日的开盘价为93.94美元，而到了2024年4月19日，开盘价降至83.15美元。\n",
      "- **最高价**：此期间的最高价出现在2024年3月26日，为96.38美元。\n",
      "- **最低价**：而最低价出现在2024年4月19日，为75.61美元。\n",
      "- **收盘价**：2024年3月25日的收盘价为95.00美元，相比之下，4月19日的收盘价下降至76.20美元。\n",
      "\n",
      "这些数据反映了股价的整体下滑趋势，并伴随着显著波动。下面我们来深入分析与此相关的原因。\n",
      "\n",
      "## 深入股价分析\n",
      "\n",
      "### 价格走势\n",
      "从收集的数据可以看到，NVIDIA的股价在这一个月里具有明显的下跌趋势。尽管有几天股价有所回升，如2024年4月11日收盘价达到了90.62美元，但整体趋势是下降的。\n",
      "\n",
      "### 交易量变化\n",
      "- 在交易量方面，我们注意到最大交易量出现在4月19日，达到了875,198,000股。这一天也记录了最低的股价，表明可能有大量卖出操作。\n",
      "\n",
      "### 可能的影响因素\n",
      "- 在考虑股价变动的外部因素时，可能包括市场整体的经济情况、公司业绩报告的影响、行业新闻（如竞争对手的新产品发布），或者是全球电子市场需求的变化等。\n",
      "\n",
      "## 结论\n",
      "通过上述分析，我们可以看出NVIDIA在过去一个月内的股票价格表现了下跌趋势，这可能受到了多种因素的影响。投资者需要密切关注市场动态以及公司未来的发展方向，做出相应的投资决策。\n",
      "\n",
      "请让我知道您对以上分析的看法，或者是否需要进一步探讨其他相关的内容。\n",
      "\n",
      "--------------------------------------------------------------------------------\n",
      "\u001b[33mAdmin\u001b[0m (to chat_manager):\n",
      "\n",
      "很好，不用了\n",
      "\n",
      "--------------------------------------------------------------------------------\n",
      "\u001b[31m\n",
      ">>>>>>>> NO HUMAN INPUT RECEIVED.\u001b[0m\n",
      "\u001b[31m\n",
      ">>>>>>>> USING AUTO REPLY...\u001b[0m\n",
      "\u001b[33mAdmin\u001b[0m (to chat_manager):\n",
      "\n",
      "好的！如果您有其他问题或需要进一步的帮助，请随时告诉我。祝您拥有美好的一天！\n",
      "\n",
      "--------------------------------------------------------------------------------\n"
     ]
    }
   ],
   "source": [
    "groupchat_result = user_proxy.initiate_chat(\n",
    "    manager,\n",
    "    message=task,\n",
    ")"
   ]
  },
  {
   "cell_type": "markdown",
   "id": "ba5d14b6",
   "metadata": {},
   "source": [
    "## 添加说话人选择策略"
   ]
  },
  {
   "cell_type": "code",
   "execution_count": 12,
   "id": "c17e5a76-3c40-4e2a-b8f1-378f901f5b74",
   "metadata": {
    "height": 965
   },
   "outputs": [
    {
     "name": "stdout",
     "output_type": "stream",
     "text": [
      "[autogen.oai.client: 06-14 21:05:55] {129} WARNING - The API key specified is not a valid OpenAI format; it won't work with the OpenAI-hosted model.\n",
      "[autogen.oai.client: 06-14 21:05:55] {129} WARNING - The API key specified is not a valid OpenAI format; it won't work with the OpenAI-hosted model.\n",
      "[autogen.oai.client: 06-14 21:05:56] {129} WARNING - The API key specified is not a valid OpenAI format; it won't work with the OpenAI-hosted model.\n",
      "[autogen.oai.client: 06-14 21:05:56] {129} WARNING - The API key specified is not a valid OpenAI format; it won't work with the OpenAI-hosted model.\n"
     ]
    }
   ],
   "source": [
    "user_proxy = autogen.ConversableAgent(\n",
    "    name=\"Admin\",\n",
    "    system_message=\"Give the task, and send \"   # 给出任务，并发送指令给作者，从而完善博客文章。\n",
    "    \"instructions to writer to refine the blog post.\",\n",
    "    code_execution_config=False,\n",
    "    llm_config=llm_config,\n",
    "    human_input_mode=\"ALWAYS\",\n",
    ")\n",
    "\n",
    "planner = autogen.ConversableAgent(\n",
    "    name=\"Planner\",\n",
    "    system_message=\"Given a task, please determine \"     # 给定一项任务，请确定完成该任务需要哪些信息。\n",
    "    \"what information is needed to complete the task. \" # 请注意，所有信息都将使用Python代码检索。\n",
    "    \"Please note that the information will all be retrieved using\"  # 请只建议可以使用Python代码检索的信息。\n",
    "    \" Python code. Please only suggest information that can be \"    # 在其他人完成每一步后，检查进度并指示剩余步骤。\n",
    "    \"retrieved using Python code. \"\n",
    "    \"After each step is done by others, check the progress and \"     # 如果某一步失败，尝试解决。\n",
    "    \"instruct the remaining steps. If a step fails, try to \"\n",
    "    \"workaround\",\n",
    "    description=\"Given a task, determine what \"     # 规划者。给定一项任务，确定完成该任务需要哪些信息。\n",
    "    \"information is needed to complete the task. \"  # 在其他人完成每一步后，检查进度并指示剩余步骤\n",
    "    \"After each step is done by others, check the progress and \"\n",
    "    \"instruct the remaining steps\",\n",
    "    llm_config=llm_config,\n",
    ")\n",
    "\n",
    "engineer = autogen.AssistantAgent(\n",
    "    name=\"Engineer\",\n",
    "    llm_config=llm_config,\n",
    "    description=\"Write code based on the plan \"     # 基于规划者的计划写代码。\n",
    "    \"provided by the planner.\",\n",
    ")\n",
    "\n",
    "writer = autogen.ConversableAgent(\n",
    "    name=\"Writer\",\n",
    "    llm_config=llm_config,\n",
    "    system_message=\"Writer. \"\n",
    "    \"Please write blogs in markdown format (with relevant titles)\"  # 请用markdown格式写博客(带有相关标题)，并将内容放在伪``` `md```代码块中。\n",
    "    \" and put the content in pseudo ```md``` code block. \"      \n",
    "    \"You take feedback from the admin and refine your blog.\",       # 你从管理员那里得到反馈并改进你的博客。\n",
    "    description=\"After all the info is available, \"\n",
    "    \"write blogs based on the code execution results and take \"     # 根据代码执行结果编写博客，并根据管理员的反馈完善博客\n",
    "    \"feedback from the admin to refine the blog. \",\n",
    ")\n",
    "\n",
    "executor = autogen.ConversableAgent(\n",
    "    name=\"Executor\",\n",
    "    description=\"Execute the code written by the \"      # 执行工程师编写的代码并报告结果。\n",
    "    \"engineer and report the result.\",\n",
    "    human_input_mode=\"NEVER\",\n",
    "    code_execution_config={\n",
    "        \"last_n_messages\": 3,\n",
    "        \"work_dir\": \"coding\",\n",
    "        \"use_docker\": False,\n",
    "    },\n",
    ")"
   ]
  },
  {
   "cell_type": "markdown",
   "id": "ac3bbca0",
   "metadata": {},
   "source": [
    "我们上次定义群聊可能会出现发言混乱的情况，我们可以通过添加`allowed_or_disallowed_speaker_transitions`与`speaker_transitions_type`参数来对群聊进行额外的约束，前者可以指定Agent的消息能够/不能够被哪些Agent看到，具体是能够或不能够则可以通过设置`speaker_transitions_type`为`allowed`或`disallowed`来控制。"
   ]
  },
  {
   "cell_type": "code",
   "execution_count": 13,
   "id": "d1ea0a1b-78f9-4be3-9479-228d6e679268",
   "metadata": {
    "height": 234
   },
   "outputs": [],
   "source": [
    "groupchat = autogen.GroupChat(\n",
    "    agents=[user_proxy, engineer, writer, executor, planner],\n",
    "    messages=[],\n",
    "    max_round=10,\n",
    "    allowed_or_disallowed_speaker_transitions={\n",
    "        user_proxy: [engineer, writer, executor, planner],\n",
    "        engineer: [user_proxy, executor],\n",
    "        writer: [user_proxy, planner],\n",
    "        executor: [user_proxy, engineer, planner],\n",
    "        planner: [user_proxy, engineer, writer],\n",
    "    },\n",
    "    speaker_transitions_type=\"allowed\",\n",
    ")"
   ]
  },
  {
   "cell_type": "code",
   "execution_count": 14,
   "id": "a62255bb-644f-4af6-a640-08297e55de45",
   "metadata": {
    "height": 149
   },
   "outputs": [
    {
     "name": "stdout",
     "output_type": "stream",
     "text": [
      "[autogen.oai.client: 06-14 21:05:56] {129} WARNING - The API key specified is not a valid OpenAI format; it won't work with the OpenAI-hosted model.\n",
      "\u001b[33mAdmin\u001b[0m (to chat_manager):\n",
      "\n",
      "写一篇关于过去一个月Nvidia股价表现的博客。今天是 2024-04-23。\n",
      "\n",
      "--------------------------------------------------------------------------------\n",
      "\u001b[31m\n",
      ">>>>>>>> USING AUTO REPLY...\u001b[0m\n",
      "\u001b[33mPlanner\u001b[0m (to chat_manager):\n",
      "\n",
      "为了完成关于过去一个月NVIDIA股价表现的博客，你需要做以下几个步骤：\n",
      "\n",
      "1. **获取股票数据**：\n",
      "   - 你需要从2024年3月23日到2024年4月22日的NVIDIA股票数据。\n",
      "   - 数据应包括至少每日的开盘价、最高价、最低价和收盘价。\n",
      "\n",
      "2. **分析股票表现**：\n",
      "   - 比较3月23日和4月22日的收盘价，评估股价变化。\n",
      "   - 计算此期间的股价最高值和最低值。\n",
      "   - 可以计算平均收盘价或其他相关的统计数据。\n",
      "\n",
      "3. **撰写博客文章**：\n",
      "   - 根据收集的数据分析NVIDIA过去一个月的股价表现。\n",
      "   - 提供量化数据支持你的分析，如价格变动、最高点和最低点。\n",
      "   - 讨论可能影响股价变动的外部因素，如市场新闻或技术创新。\n",
      "\n",
      "### 第一步：获取股票数据\n",
      "为了获取股票数据，你可以使用Python中的几种金融数据库接口，如 `yfinance`。可以通过下面的Python代码来获取NVIDIA（股票代码为\"NVDA\"）的股票数据：\n",
      "\n",
      "```python\n",
      "import yfinance as yf\n",
      "import pandas as pd\n",
      "\n",
      "# 设置日期范围\n",
      "start_date = \"2024-03-23\"\n",
      "end_date = \"2024-04-22\"\n",
      "\n",
      "# 下载NVDA股票数据\n",
      "nvda_data = yf.download('NVDA', start=start_date, end=end_date)\n",
      "\n",
      "# 显示数据\n",
      "print(nvda_data)\n",
      "```\n",
      "\n",
      "该代码段将输出NVIDIA股票的每日开盘价、最高价、最低价和收盘价等数据。\n",
      "\n",
      "#### 接下来的步骤：\n",
      "- 执行上述Python代码来获取NVIDIA股票数据。\n",
      "- 检查数据是否已正确获取并呈现所需日期范围内的数据。如果成功，请告诉我以便继续进行下一步分析。如果失败，请描述遇到的问题，以便我可以帮助找到解决方案。\n",
      "\n",
      "--------------------------------------------------------------------------------\n",
      "\u001b[33mEngineer\u001b[0m (to chat_manager):\n",
      "\n",
      "请使用以下 Python 代码来获取所需的 Nvidia 股票数据。这段代码将帮助我们下载2024年3月23日到2024年4月22日之间的股价数据。\n",
      "\n",
      "```python\n",
      "# filename: fetch_nvda_stock_data.py\n",
      "import yfinance as yf\n",
      "\n",
      "# 设置日期范围\n",
      "start_date = '2024-03-23'\n",
      "end_date = '2024-04-22'\n",
      "\n",
      "# 下载NVDA股票数据\n",
      "nvda_data = yf.download('NVDA', start=start_date, end=end_art_date)\n",
      "\n",
      "# 显示数据\n",
      "print(nvda_data)\n",
      "```\n",
      "\n",
      "请确保您的环境中已安装 `yfinance` 库。如果未安装，可以使用 `pip install yfinance` 来安装。然后，运行上述脚本并将结果返回给我，以便继续下一步分析。\n",
      "\n",
      "--------------------------------------------------------------------------------\n",
      "\u001b[31m\n",
      ">>>>>>>> EXECUTING CODE BLOCK 0 (inferred language is python)...\u001b[0m\n",
      "\u001b[33mExecutor\u001b[0m (to chat_manager):\n",
      "\n",
      "exitcode: 1 (execution failed)\n",
      "Code output: \n",
      "Traceback (most recent call last):\n",
      "  File \"fetch_nvda_stock_data.py\", line 9, in <module>\n",
      "    nvda_data = yf.download('NVDA', start=start_date, end=end_art_date)\n",
      "NameError: name 'end_art_date' is not defined. Did you mean: 'start_date'?\n",
      "\n",
      "\n",
      "--------------------------------------------------------------------------------\n",
      "\u001b[33mEngineer\u001b[0m (to chat_manager):\n",
      "\n",
      "看起来代码中存在一个小错误。我错误地引用了一个不存在的变量名。让我们修正这个错误并重新执行正确的代码。\n",
      "\n",
      "请使用以下正确的 Python 代码来获取所需的 Nvidia 股票数据：\n",
      "\n",
      "```python\n",
      "# filename: fetch_nvda_stock_data.py\n",
      "import yfinance as yf\n",
      "\n",
      "# 设置日期范围\n",
      "start_date = '2024-03-23'\n",
      "end_date = '2024-04-22'\n",
      "\n",
      "# 下载NVDA股票数据\n",
      "nvda_data = yf.download('NVDA', start=start_date, end=end_date)\n",
      "\n",
      "# 显示数据\n",
      "print(nvda_data)\n",
      "```\n",
      "\n",
      "运行这段修改后的脚本。这次应该能正确获取 NVIDIA 的股票数据。请确保 `yfinance` 已正确安装，并再次运行该脚本，然后将结果返回给我，以便我们继续分析。\n",
      "\n",
      "--------------------------------------------------------------------------------\n",
      "\u001b[31m\n",
      ">>>>>>>> EXECUTING CODE BLOCK 0 (inferred language is python)...\u001b[0m\n",
      "\u001b[33mExecutor\u001b[0m (to chat_manager):\n",
      "\n",
      "exitcode: 0 (execution succeeded)\n",
      "Code output: \n",
      "                 Open       High        Low      Close  Adj Close     Volume\n",
      "Date                                                                        \n",
      "2024-03-25  93.941002  96.765999  93.510002  95.001999  94.994194  552136000\n",
      "2024-03-26  95.850998  96.375000  92.501999  92.560997  92.553398  513648000\n",
      "2024-03-27  93.112000  93.239998  89.123001  90.250000  90.242584  586067000\n",
      "2024-03-28  90.000000  91.300003  89.193001  90.356003  90.348579  435212000\n",
      "2024-04-01  90.299004  92.224998  89.204002  90.362999  90.355576  452441000\n",
      "2024-04-02  88.447998  90.094002  87.620003  89.452003  89.444656  433064000\n",
      "2024-04-03  88.484001  90.374001  88.400002  88.963997  88.956688  370067000\n",
      "2024-04-04  90.405998  90.634003  85.879997  85.904999  85.897942  434965000\n",
      "2024-04-05  86.865997  88.481003  85.926003  88.008003  88.000778  399678000\n",
      "2024-04-08  88.699997  88.830002  86.732002  87.133003  87.125847  283220000\n",
      "2024-04-09  87.442001  87.635002  83.022003  85.353996  85.346985  503547000\n",
      "2024-04-10  83.926003  87.400002  83.709000  87.039001  87.031853  431929000\n",
      "2024-04-11  87.419998  90.738998  86.926003  90.615997  90.608551  431637000\n",
      "2024-04-12  89.698997  90.175003  87.529999  88.185997  88.178757  426805000\n",
      "2024-04-15  89.098000  90.612999  85.929001  86.000999  85.993935  443077000\n",
      "2024-04-16  86.432999  88.117996  86.064003  87.415001  87.407822  370453000\n",
      "2024-04-17  88.339996  88.775002  83.949997  84.035004  84.028099  495400000\n",
      "2024-04-18  84.970001  86.190002  82.402000  84.670998  84.664040  447260000\n",
      "2024-04-19  83.150002  84.323997  75.606003  76.199997  76.193741  875198000\n",
      "\n",
      "\n",
      "--------------------------------------------------------------------------------\n",
      "\u001b[31m\n",
      ">>>>>>>> USING AUTO REPLY...\u001b[0m\n",
      "\u001b[33mPlanner\u001b[0m (to chat_manager):\n",
      "\n",
      "我们已成功获取到NVIDIA股票从2024年3月23日到2024年4月22日的每日开盘价、最高价、最低价和收盘价数据。现在我们可以进行数据分析。\n",
      "\n",
      "### 第二步：分析股票表现\n",
      "通过这些数据，我们将完成以下分析：\n",
      "1. 计算此期间的股价最高值和最低值。\n",
      "2. 比较此期间内的起始收盘价和结束收盘价，计算价格变动。\n",
      "3. 计算及评估期间内的平均收盘价。\n",
      "\n",
      "#### 执行以下Python代码进行分析：\n",
      "\n",
      "```python\n",
      "# 最高价和最低价\n",
      "max_price = nvda_data['High'].max()\n",
      "min_price = nvda_data['Low'].min()\n",
      "\n",
      "# 价格变动\n",
      "price_change = nvda_data['Close'].iloc[-1] - nvda_data['Close'].iloc[0]\n",
      "\n",
      "# 平均收盘价\n",
      "average_close = nvda_data['Close'].mean()\n",
      "\n",
      "print(f\"最高价: {max_price}\")\n",
      "print(f\"最低价: {min_price}\")\n",
      "print(f\"价格变动: {price_change}（从 {nvda_data['Close'].iloc[0]} 到 {nvda_data['Close'].iloc[-1]}）\")\n",
      "print(f\"平均收盘价: {average_close}\")\n",
      "```\n",
      "\n",
      "#### 接下来的步骤：\n",
      "请执行上述Python代码来进行数据分析，并将结果返回给我，这样我们就可以在此基础上撰写博客文章了。如果遇到任何问题，请及时反馈。\n",
      "\n",
      "--------------------------------------------------------------------------------\n",
      "\u001b[33mEngineer\u001b[0m (to chat_manager):\n",
      "\n",
      "这一步需要执行上述提供的Python代码来分析NVIDIA股票的表现，请将该段代码放入Python环墯中执行，并把执行结果返回给我。这将帮助我们得到股票的最高价、最低价、价格变动以及平均收盘价，为撰写博客文章提供数据支持。执行完毕后，请将结果详细告诉我。\n",
      "TERMINATE\n",
      "\n",
      "--------------------------------------------------------------------------------\n",
      "\u001b[31m\n",
      ">>>>>>>> EXECUTING CODE BLOCK 0 (inferred language is python)...\u001b[0m\n",
      "\u001b[33mExecutor\u001b[0m (to chat_manager):\n",
      "\n",
      "exitcode: 1 (execution failed)\n",
      "Code output: \n",
      "Traceback (most recent call last):\n",
      "  File \"\", line 2, in <module>\n",
      "    max_price = nvda_data['High'].max()\n",
      "NameError: name 'nvda_data' is not defined\n",
      "\n",
      "\n",
      "--------------------------------------------------------------------------------\n",
      "\u001b[33mEngineer\u001b[0m (to chat_manager):\n",
      "\n",
      "看起来在执行代码时遇到了一个错误，因为 `nvda_data` 变量未定义。这是因为我未能提醒你将导入的数据保存为 `nvda_data` 变量，或者是因为之前的脚本没有把这个变量存储在一个可以持续访问的形式中。我们需要修正这一点并重新执行分析。\n",
      "\n",
      "请先确保你已经将数据正确地加载到变量 `nv,da_data` 中，然后执行以下代码进行股票的数据分析：\n",
      "\n",
      "```python\n",
      "# filename: analyze_nvda_stock_data.py\n",
      "import pandas as pd\n",
      "\n",
      "# 示例数据加载，实际操作时请确保数据已通过 yfinance 加载\n",
      "data = {\n",
      "    'Open': [93.94, 95.85, 86.43, 84.97, 83.15],\n",
      "    'High': [96.76, 96.37, 88.11, 86.19, 84.32],\n",
      "    'Low': [93.51, 92.50, 86.06, 82.40, 75.60],\n",
      "    'Close': [95.00, 92.56, 87.41, 84.67, 76.19]\n",
      "}\n",
      "dates = pd.date_range(start=\"2024-03-25\", periods=len(data['Open']), freq='B')\n",
      "nvda_data = pd.DataFrame(data, index=dates)\n",
      "\n",
      "# 最高价和最低价\n",
      "max_price = nvda_data['High'].max()\n",
      "min_price = nvda_data['Low'].min()\n",
      "\n",
      "# 价格变动\n",
      "price_change = nvda_data['Close'].iloc[-1] - nvda_data['Close'].iloc[0]\n",
      "\n",
      "# 平均收盘价\n",
      "average_close = nvda_data['Close'].mean()\n",
      "\n",
      "print(f\"最高价: {max_price}\")\n",
      "print(f\"最低价: {min_price}\")\n",
      "print(f\"价格变动: {price_change}（从 {nvda_data['Close'].iloc[0]} 到 {nvda_data['Close'].iloc[-1]}）\")\n",
      "print(f\"平均收盘价: {average_close}\")\n",
      "```\n",
      "\n",
      "在执行这段代码之前，请确认在你的脚本中已经加载了股票数据，或使用内置的示例数据进行测试。执行后，请将结果告知我，以便继续进行博客文章的撰写。\n",
      "\n",
      "--------------------------------------------------------------------------------\n"
     ]
    }
   ],
   "source": [
    "manager = autogen.GroupChatManager(\n",
    "    groupchat=groupchat, llm_config=llm_config\n",
    ")\n",
    "\n",
    "groupchat_result = user_proxy.initiate_chat(\n",
    "    manager,\n",
    "    message=task,\n",
    ")"
   ]
  },
  {
   "cell_type": "markdown",
   "id": "e738fd8b",
   "metadata": {},
   "source": [
    "**注意**: 你可能会体验到智能体之间略有不同的交互。工程师Agent可能编写了不正确的代码，执行Agent将报告并发回更正。这个过程可能会经过多轮。"
   ]
  }
 ],
 "metadata": {
  "kernelspec": {
   "display_name": "Python 3 (ipykernel)",
   "language": "python",
   "name": "python3"
  },
  "language_info": {
   "codemirror_mode": {
    "name": "ipython",
    "version": 3
   },
   "file_extension": ".py",
   "mimetype": "text/x-python",
   "name": "python",
   "nbconvert_exporter": "python",
   "pygments_lexer": "ipython3",
   "version": "3.10.14"
  }
 },
 "nbformat": 4,
 "nbformat_minor": 5
}
