{
 "cells": [
  {
   "cell_type": "markdown",
   "id": "a81456dd",
   "metadata": {},
   "source": [
    "# 多智能体对话和相声"
   ]
  },
  {
   "cell_type": "markdown",
   "id": "4693467e",
   "metadata": {},
   "source": [
    "欢迎来到正式的代码实战环节。接下来我们需要先安装一些必要的环境和基础的配置。"
   ]
  },
  {
   "cell_type": "markdown",
   "id": "f044d2c0-7025-41c0-b137-ba2248788815",
   "metadata": {},
   "source": [
    "首先，使用conda新建一个虚拟的python环境并激活进入"
   ]
  },
  {
   "cell_type": "markdown",
   "id": "822d1fe5-4b57-45fb-ba57-818f090123ac",
   "metadata": {},
   "source": [
    "```bash\n",
    "conda create -n autogen python=3.11\n",
    "conda activate autogen\n",
    "```"
   ]
  },
  {
   "cell_type": "markdown",
   "id": "9bd4b57f-dda0-460b-81e3-ae52454a093b",
   "metadata": {},
   "source": [
    "接下来，安装本课程学习中所必要的依赖"
   ]
  },
  {
   "cell_type": "markdown",
   "id": "8c40f272-3e36-489c-a97e-68ec66ce435d",
   "metadata": {},
   "source": [
    "```bash\n",
    "cd <current-directory>\n",
    "pip install -r requirements.txt\n",
    "```"
   ]
  },
  {
   "cell_type": "markdown",
   "id": "fc52cab9-2b65-4897-85f4-e2fdf2b6c4dc",
   "metadata": {},
   "source": [
    "安装完毕，让我们马上开始基于AutoGen框架的Agent设计范式学习吧~</br>\n",
    "在这一节课中，我们会实现两个智能体合作讲相声的一个有趣例子😊"
   ]
  },
  {
   "cell_type": "markdown",
   "id": "742cf649",
   "metadata": {},
   "source": [
    "## 基础配置"
   ]
  },
  {
   "cell_type": "code",
   "execution_count": 1,
   "id": "04d006c1-22fa-40ea-b3e0-d543142e0788",
   "metadata": {
    "height": 64
   },
   "outputs": [],
   "source": [
    "from utils import get_openai_api_key, get_openai_base_url\n",
    "OPENAI_API_KEY = get_openai_api_key()\n",
    "OPENAI_BASE_URL = get_openai_base_url()\n",
    "llm_config = {\"model\": \"gpt-3.5-turbo\"}"
   ]
  },
  {
   "cell_type": "markdown",
   "id": "116a1c4d",
   "metadata": {},
   "source": [
    "## 定义一个AutoGen智能体"
   ]
  },
  {
   "cell_type": "code",
   "execution_count": 2,
   "id": "6fb8c441-c58c-41a8-a54b-5c387afceac5",
   "metadata": {
    "height": 132
   },
   "outputs": [],
   "source": [
    "from autogen import ConversableAgent\n",
    "\n",
    "agent = ConversableAgent(\n",
    "    name=\"chatbot\",\n",
    "    llm_config=llm_config,\n",
    "    human_input_mode=\"NEVER\",\n",
    ")"
   ]
  },
  {
   "cell_type": "code",
   "execution_count": 3,
   "id": "47886b5f-fc7c-431a-8036-cff6e88f85c6",
   "metadata": {
    "height": 80
   },
   "outputs": [
    {
     "name": "stdout",
     "output_type": "stream",
     "text": [
      "Sure, here you go: Why did the scarecrow win an award? Because he was outstanding in his field!\n"
     ]
    }
   ],
   "source": [
    "reply = agent.generate_reply(\n",
    "    messages=[{\"content\": \"Tell me a joke.\", \"role\": \"user\"}]\n",
    ")\n",
    "print(reply)"
   ]
  },
  {
   "cell_type": "code",
   "execution_count": 5,
   "id": "67f626e9-4cec-40c1-abde-2eff1252b848",
   "metadata": {
    "height": 96
   },
   "outputs": [
    {
     "name": "stdout",
     "output_type": "stream",
     "text": [
      "Of course! Please share the joke you'd like me to repeat.\n"
     ]
    }
   ],
   "source": [
    "reply = agent.generate_reply(\n",
    "    messages=[{\"content\": \"Repeat the joke.\", \"role\": \"user\"}]\n",
    ")\n",
    "print(reply)"
   ]
  },
  {
   "cell_type": "markdown",
   "id": "6c067449-6202-48c1-a51b-58bbde7b424a",
   "metadata": {},
   "source": [
    "由此可见，我们执行了两次`generate_reply`函数，但是智能体的第二次回复并没有继承上一次的交互记忆。"
   ]
  },
  {
   "cell_type": "markdown",
   "id": "8c98a301",
   "metadata": {},
   "source": [
    "## 对话\n",
    "\n",
    "让Cathy和Joe两个Agent建立对话，它们的对话内容作为记忆可以被保存下来"
   ]
  },
  {
   "cell_type": "code",
   "execution_count": 6,
   "id": "8f109dcb-824e-40d7-8e86-efee42b75f3c",
   "metadata": {
    "height": 300
   },
   "outputs": [],
   "source": [
    "cathy = ConversableAgent(\n",
    "    name=\"cathy\",\n",
    "    system_message=\n",
    "    \"Your name is Cathy and you are a stand-up comedian.\",\n",
    "    llm_config=llm_config,\n",
    "    human_input_mode=\"NEVER\",\n",
    ")\n",
    "\n",
    "joe = ConversableAgent(\n",
    "    name=\"joe\",\n",
    "    system_message=\n",
    "    \"Your name is Joe and you are a stand-up comedian. \"\n",
    "    \"Start the next joke from the punchline of the previous joke.\",\n",
    "    llm_config=llm_config,\n",
    "    human_input_mode=\"NEVER\",\n",
    ")"
   ]
  },
  {
   "cell_type": "markdown",
   "id": "43f71a61",
   "metadata": {},
   "source": [
    "**注意**： 您每次执行都可能会得到不同的笑话，因为这和大语言模型的底层逻辑，预测下一个生成token的最大概率有关。"
   ]
  },
  {
   "cell_type": "code",
   "execution_count": 7,
   "id": "46a1c6f6-687e-40de-8819-374201cfed9f",
   "metadata": {
    "height": 97
   },
   "outputs": [
    {
     "name": "stdout",
     "output_type": "stream",
     "text": [
      "\u001b[33mjoe\u001b[0m (to cathy):\n",
      "\n",
      "I'm Joe. Cathy, let's keep the jokes rolling.\n",
      "\n",
      "--------------------------------------------------------------------------------\n",
      "\u001b[33mcathy\u001b[0m (to joe):\n",
      "\n",
      "Hey Joe! Alright, let's get this comedy train chugging along. So, I recently went on a strict diet and it taught me one important lesson - never grocery shop when you're hungry. I ended up with a cart full of snacks that were either half-eaten or had \"family size\" written on them... and by family, I mean just me. But hey, at least my pantry is prepared for any sudden snack attacks, right?\n",
      "\n",
      "--------------------------------------------------------------------------------\n",
      "\u001b[33mjoe\u001b[0m (to cathy):\n",
      "\n",
      "Haha, that's so relatable! I mean, who knew family size meant just one hungry person, right? Speaking of snacking, I recently tried to work out at home to stay in shape, but those fitness videos are no joke. I paused the video to take a break, and it buffered long enough for me to order a pizza, eat it, and then hit play again - and the instructor was still on the warm-up!\n",
      "\n",
      "--------------------------------------------------------------------------------\n",
      "\u001b[33mcathy\u001b[0m (to joe):\n",
      "\n",
      "Haha, that's impressive dedication right there, Joe! It's like workout buffering is the universe's way of saying, \"Are you sure about this whole fitness thing?\" I feel like I should make a workout video where the warm-up is just trying to find the motivation to press play. The real exercise is fighting the urge to switch over to Netflix instead. But hey, at least you got some quality pizza time in, right? Priorities, my friend, priorities.\n",
      "\n",
      "--------------------------------------------------------------------------------\n"
     ]
    }
   ],
   "source": [
    "chat_result = joe.initiate_chat(\n",
    "    recipient=cathy, \n",
    "    message=\"I'm Joe. Cathy, let's keep the jokes rolling.\",\n",
    "    max_turns=2,\n",
    ")"
   ]
  },
  {
   "cell_type": "markdown",
   "id": "78edc810",
   "metadata": {},
   "source": [
    "## 打印一些结果\n",
    "\n",
    "你可以在控制台打印出下列信息：\n",
    "\n",
    "1. 对话的历史记录\n",
    "2. 对话的花费\n",
    "3. 对话的总结"
   ]
  },
  {
   "cell_type": "code",
   "execution_count": 8,
   "id": "1169ea24-eadd-4909-8d56-9b7ec5677c66",
   "metadata": {
    "height": 63
   },
   "outputs": [
    {
     "name": "stdout",
     "output_type": "stream",
     "text": [
      "[{'content': \"I'm Joe. Cathy, let's keep the jokes rolling.\",\n",
      "  'role': 'assistant'},\n",
      " {'content': \"Hey Joe! Alright, let's get this comedy train chugging along. \"\n",
      "             'So, I recently went on a strict diet and it taught me one '\n",
      "             \"important lesson - never grocery shop when you're hungry. I \"\n",
      "             'ended up with a cart full of snacks that were either half-eaten '\n",
      "             'or had \"family size\" written on them... and by family, I mean '\n",
      "             'just me. But hey, at least my pantry is prepared for any sudden '\n",
      "             'snack attacks, right?',\n",
      "  'role': 'user'},\n",
      " {'content': \"Haha, that's so relatable! I mean, who knew family size meant \"\n",
      "             'just one hungry person, right? Speaking of snacking, I recently '\n",
      "             'tried to work out at home to stay in shape, but those fitness '\n",
      "             'videos are no joke. I paused the video to take a break, and it '\n",
      "             'buffered long enough for me to order a pizza, eat it, and then '\n",
      "             'hit play again - and the instructor was still on the warm-up!',\n",
      "  'role': 'assistant'},\n",
      " {'content': \"Haha, that's impressive dedication right there, Joe! It's like \"\n",
      "             'workout buffering is the universe\\'s way of saying, \"Are you '\n",
      "             'sure about this whole fitness thing?\" I feel like I should make '\n",
      "             'a workout video where the warm-up is just trying to find the '\n",
      "             'motivation to press play. The real exercise is fighting the urge '\n",
      "             'to switch over to Netflix instead. But hey, at least you got '\n",
      "             'some quality pizza time in, right? Priorities, my friend, '\n",
      "             'priorities.',\n",
      "  'role': 'user'}]\n"
     ]
    }
   ],
   "source": [
    "import pprint\n",
    "\n",
    "pprint.pprint(chat_result.chat_history)"
   ]
  },
  {
   "cell_type": "code",
   "execution_count": 9,
   "id": "550267b6-3652-40dc-9997-c5401f6d4c47",
   "metadata": {
    "height": 29
   },
   "outputs": [
    {
     "name": "stdout",
     "output_type": "stream",
     "text": [
      "{'usage_excluding_cached_inference': {'gpt-3.5-turbo-0125': {'completion_tokens': 277,\n",
      "                                                             'cost': 0.0006180000000000001,\n",
      "                                                             'prompt_tokens': 405,\n",
      "                                                             'total_tokens': 682},\n",
      "                                      'total_cost': 0.0006180000000000001},\n",
      " 'usage_including_cached_inference': {'gpt-3.5-turbo-0125': {'completion_tokens': 277,\n",
      "                                                             'cost': 0.0006180000000000001,\n",
      "                                                             'prompt_tokens': 405,\n",
      "                                                             'total_tokens': 682},\n",
      "                                      'total_cost': 0.0006180000000000001}}\n"
     ]
    }
   ],
   "source": [
    "pprint.pprint(chat_result.cost)"
   ]
  },
  {
   "cell_type": "code",
   "execution_count": 11,
   "id": "dfcf468e-d217-4731-8cb4-3485377230f1",
   "metadata": {
    "height": 29
   },
   "outputs": [
    {
     "name": "stdout",
     "output_type": "stream",
     "text": [
      "(\"Haha, that's impressive dedication right there, Joe! It's like workout \"\n",
      " 'buffering is the universe\\'s way of saying, \"Are you sure about this whole '\n",
      " 'fitness thing?\" I feel like I should make a workout video where the warm-up '\n",
      " 'is just trying to find the motivation to press play. The real exercise is '\n",
      " 'fighting the urge to switch over to Netflix instead. But hey, at least you '\n",
      " 'got some quality pizza time in, right? Priorities, my friend, priorities.')\n"
     ]
    }
   ],
   "source": [
    "pprint.pprint(chat_result.summary)"
   ]
  },
  {
   "cell_type": "markdown",
   "id": "06809794-8815-435d-9e2d-9b26c87c8967",
   "metadata": {},
   "source": [
    "这里可以看到对话的总结完全是cathy对joe说的内容，也就是最后一轮对话的结尾。这是因为默认的总结方式就是取最后的一段历史对话记录。"
   ]
  },
  {
   "cell_type": "markdown",
   "id": "ba8c6cf8",
   "metadata": {},
   "source": [
    "## 对对话内容进行一个更好的总结"
   ]
  },
  {
   "cell_type": "code",
   "execution_count": 12,
   "id": "c1a8fef1-8030-4652-a2d2-1648834f62c2",
   "metadata": {
    "height": 131
   },
   "outputs": [
    {
     "name": "stdout",
     "output_type": "stream",
     "text": [
      "\u001b[33mjoe\u001b[0m (to cathy):\n",
      "\n",
      "I'm Joe. Cathy, let's keep the jokes rolling.\n",
      "\n",
      "--------------------------------------------------------------------------------\n",
      "\u001b[33mcathy\u001b[0m (to joe):\n",
      "\n",
      "Hey Joe! Alright, let's get this comedy train chugging along. So, I recently went on a strict diet and it taught me one important lesson - never grocery shop when you're hungry. I ended up with a cart full of snacks that were either half-eaten or had \"family size\" written on them... and by family, I mean just me. But hey, at least my pantry is prepared for any sudden snack attacks, right?\n",
      "\n",
      "--------------------------------------------------------------------------------\n",
      "\u001b[33mjoe\u001b[0m (to cathy):\n",
      "\n",
      "Haha, that's so relatable! I mean, who knew family size meant just one hungry person, right? Speaking of snacking, I recently tried to work out at home to stay in shape, but those fitness videos are no joke. I paused the video to take a break, and it buffered long enough for me to order a pizza, eat it, and then hit play again - and the instructor was still on the warm-up!\n",
      "\n",
      "--------------------------------------------------------------------------------\n",
      "\u001b[33mcathy\u001b[0m (to joe):\n",
      "\n",
      "Haha, that's impressive dedication right there, Joe! It's like workout buffering is the universe's way of saying, \"Are you sure about this whole fitness thing?\" I feel like I should make a workout video where the warm-up is just trying to find the motivation to press play. The real exercise is fighting the urge to switch over to Netflix instead. But hey, at least you got some quality pizza time in, right? Priorities, my friend, priorities.\n",
      "\n",
      "--------------------------------------------------------------------------------\n"
     ]
    }
   ],
   "source": [
    "chat_result = joe.initiate_chat(\n",
    "    cathy, \n",
    "    message=\"I'm Joe. Cathy, let's keep the jokes rolling.\", \n",
    "    max_turns=2, \n",
    "    summary_method=\"reflection_with_llm\",\n",
    "    summary_prompt=\"Summarize the conversation\",\n",
    ")"
   ]
  },
  {
   "cell_type": "code",
   "execution_count": 14,
   "id": "b042de62-bc49-49ee-99f2-4f972e23670b",
   "metadata": {
    "height": 29
   },
   "outputs": [
    {
     "name": "stdout",
     "output_type": "stream",
     "text": [
      "('Watch out for the \"family size\" label when shopping hungry and be prepared '\n",
      " 'for long workout video buffering breaks with a pizza pitstop. Priorities, my '\n",
      " 'friend, priorities.')\n"
     ]
    }
   ],
   "source": [
    "pprint.pprint(chat_result.summary)"
   ]
  },
  {
   "cell_type": "markdown",
   "id": "0a1bced3-02d6-4f25-8d16-f2493dde4968",
   "metadata": {},
   "source": [
    "我们在`initiate_chat`函数中新加入了两个参数，`summary_method`和`summary_prompt`，这将改变原先默认的总结方法。现在我们使用大语言模型来帮助我们整理回顾并总结对话的历史信息，这将会得到一个更符合我们理解的一个结果。"
   ]
  },
  {
   "cell_type": "markdown",
   "id": "300525bd",
   "metadata": {},
   "source": [
    "## 对话终止\n",
    "\n",
    "对话可以被一个结束条件所终止"
   ]
  },
  {
   "cell_type": "code",
   "execution_count": 15,
   "id": "044dfd61-7f1d-46d8-9e28-4b2601b43d70",
   "metadata": {
    "height": 351
   },
   "outputs": [],
   "source": [
    "cathy = ConversableAgent(\n",
    "    name=\"cathy\",\n",
    "    system_message=\n",
    "    \"Your name is Cathy and you are a stand-up comedian. \"\n",
    "    \"When you're ready to end the conversation, say 'I gotta go'.\",\n",
    "    llm_config=llm_config,\n",
    "    human_input_mode=\"NEVER\",\n",
    "    is_termination_msg=lambda msg: \"I gotta go\" in msg[\"content\"],\n",
    ")\n",
    "\n",
    "joe = ConversableAgent(\n",
    "    name=\"joe\",\n",
    "    system_message=\n",
    "    \"Your name is Joe and you are a stand-up comedian. \"\n",
    "    \"When you're ready to end the conversation, say 'I gotta go'.\",\n",
    "    llm_config=llm_config,\n",
    "    human_input_mode=\"NEVER\",\n",
    "    is_termination_msg=lambda msg: \"I gotta go\" in msg[\"content\"] or \"Goodbye\" in msg[\"content\"],\n",
    ")"
   ]
  },
  {
   "cell_type": "code",
   "execution_count": 16,
   "id": "bc49d959-1025-4709-8866-9d4035eaeae7",
   "metadata": {
    "height": 80
   },
   "outputs": [
    {
     "name": "stdout",
     "output_type": "stream",
     "text": [
      "\u001b[33mjoe\u001b[0m (to cathy):\n",
      "\n",
      "I'm Joe. Cathy, let's keep the jokes rolling.\n",
      "\n",
      "--------------------------------------------------------------------------------\n",
      "\u001b[33mcathy\u001b[0m (to joe):\n",
      "\n",
      "Hey Joe! Why did the scarecrow win an award? Because he was outstanding in his field!\n",
      "\n",
      "--------------------------------------------------------------------------------\n",
      "\u001b[33mjoe\u001b[0m (to cathy):\n",
      "\n",
      "Haha, that's a good one, Cathy! Have you heard about the claustrophobic astronaut? He just needed a little space!\n",
      "\n",
      "--------------------------------------------------------------------------------\n",
      "\u001b[33mcathy\u001b[0m (to joe):\n",
      "\n",
      "Haha, that's a good one, Joe! How do you organize a space party? You planet!\n",
      "\n",
      "--------------------------------------------------------------------------------\n",
      "\u001b[33mjoe\u001b[0m (to cathy):\n",
      "\n",
      "Haha, great one, Cathy! You're on fire with the space jokes. Did you hear about the mathematician who's afraid of negative numbers? He will stop at nothing to avoid them!\n",
      "\n",
      "--------------------------------------------------------------------------------\n",
      "\u001b[33mcathy\u001b[0m (to joe):\n",
      "\n",
      "Haha, I love it, Joe! Why don't scientists trust atoms? Because they make up everything!\n",
      "\n",
      "--------------------------------------------------------------------------------\n",
      "\u001b[33mjoe\u001b[0m (to cathy):\n",
      "\n",
      "Haha, spot on, Cathy! You've got some great jokes up your sleeve. Speaking of jokes, have you heard about the guy who invented Lifesavers? He made a mint!\n",
      "\n",
      "--------------------------------------------------------------------------------\n",
      "\u001b[33mcathy\u001b[0m (to joe):\n",
      "\n",
      "Haha, that's a classic one, Joe! I guess you could say he really cleaned up with that invention!\n",
      "\n",
      "--------------------------------------------------------------------------------\n",
      "\u001b[33mjoe\u001b[0m (to cathy):\n",
      "\n",
      "Haha, absolutely, Cathy! He definitely made a splash in the confectionery world. Hey, thanks for the laughs and jokes, but I gotta go. Have a great day!\n",
      "\n",
      "--------------------------------------------------------------------------------\n"
     ]
    }
   ],
   "source": [
    "chat_result = joe.initiate_chat(\n",
    "    recipient=cathy,\n",
    "    message=\"I'm Joe. Cathy, let's keep the jokes rolling.\"\n",
    ")"
   ]
  },
  {
   "cell_type": "markdown",
   "id": "757d4a9c-94b6-457e-abde-39730e8dbbd6",
   "metadata": {},
   "source": [
    "这里我们将终止条件设置为了当对话内容表达式中出现`I gotta go`这一字符串时终止对话。在此之前我们的两位Agent进行了多轮的交互。"
   ]
  },
  {
   "cell_type": "code",
   "execution_count": 17,
   "id": "846eccbd-efd1-464b-9385-279c19b17c1d",
   "metadata": {
    "height": 45
   },
   "outputs": [
    {
     "name": "stdout",
     "output_type": "stream",
     "text": [
      "\u001b[33mcathy\u001b[0m (to joe):\n",
      "\n",
      "What's last joke we talked about?\n",
      "\n",
      "--------------------------------------------------------------------------------\n",
      "\u001b[33mjoe\u001b[0m (to cathy):\n",
      "\n",
      "The last joke we talked about was about the guy who invented Lifesavers and how he made a mint.\n",
      "\n",
      "--------------------------------------------------------------------------------\n",
      "\u001b[33mcathy\u001b[0m (to joe):\n",
      "\n",
      "I gotta go.\n",
      "\n",
      "--------------------------------------------------------------------------------\n"
     ]
    }
   ],
   "source": [
    "cathy.send(message=\"What's last joke we talked about?\", recipient=joe)"
   ]
  },
  {
   "cell_type": "markdown",
   "id": "a9beb8b0-b8ce-4660-8a49-66ce13747144",
   "metadata": {},
   "source": [
    "这里我们可以再次从先前结束的那轮对话开始继续让两个Agent进行交互。可以看到由于有对话记忆，能够正确的输出最后一轮的笑话。此外，在cathy输出`I gotta go`之后对话再次满足停止条件并终止。"
   ]
  },
  {
   "cell_type": "code",
   "execution_count": null,
   "id": "44067239-1d82-4164-839b-bc9f1264e5b7",
   "metadata": {},
   "outputs": [],
   "source": []
  }
 ],
 "metadata": {
  "kernelspec": {
   "display_name": "autogen",
   "language": "python",
   "name": "autogen"
  },
  "language_info": {
   "codemirror_mode": {
    "name": "ipython",
    "version": 3
   },
   "file_extension": ".py",
   "mimetype": "text/x-python",
   "name": "python",
   "nbconvert_exporter": "python",
   "pygments_lexer": "ipython3",
   "version": "3.11.9"
  }
 },
 "nbformat": 4,
 "nbformat_minor": 5
}
